{
 "cells": [
  {
   "cell_type": "markdown",
   "metadata": {},
   "source": [
    "\n",
    "\n",
    "\n",
    "\n",
    "\n"
   ]
  },
  {
   "attachments": {},
   "cell_type": "markdown",
   "metadata": {},
   "source": [
    "# Contents\n",
    "- Summary\n",
    "- R\n",
    "- Python\n",
    "\n",
    "# Summary\n",
    "\n",
    "A Lot of foundational concepts are found on the Linear models and regression page. \n",
    "\n",
    "Simple linear regression is just fitting a line to data we are interested in the p-value and the R^2\n",
    "Multiple regression is fitting a plane or a higher dimensional level object to data\n",
    "\n",
    "For both calculating the R^2 is the same for both simple and multiple regression \n",
    "\n",
    "**it should be noted that when adding n dimensions to the data or (more variables)  R^2 will never decrease**\n",
    "\n",
    "**AND**\n",
    "\n",
    "**if the fit is not 100% perfect, then adding a variable that represents random data will increase the r-squared value with probability 1**\n",
    "\n",
    "refer to : https://www.mapleprimes.com/maplesoftblog/208384-Finding-Better-Adjusted-Rsquared-Values#:~:text=Basically%2C%20r%2Dsquared%20gives%20a,regression%20line%20approximates%20the%20data.&text=They%20can%20never%20decrease%20when,squared%20value%20with%20probability%201. for more info\n",
    "\n",
    "\n",
    "![MR1](images/MR1.PNG)"
   ]
  },
  {
   "attachments": {},
   "cell_type": "markdown",
   "metadata": {},
   "source": [
    "For multiple regression, you adjust R^2 to compensate for the additional parameters in the equation.\n",
    "\n",
    "Calculating the F and p-value is the same also \n",
    "![MR2](images/MR2.PNG)\n",
    "\n",
    "If the differences in R^2 values between the simple and multiple regressions is big and the pvalue is small then adding the extra dimension is worthwhile\n"
   ]
  },
  {
   "attachments": {},
   "cell_type": "markdown",
   "metadata": {},
   "source": [
    "# R\n",
    "\n",
    "Sticking to the example provided in the linear regression showcase here is the data:\n",
    "\n",
    "![MR3](images/MR3.PNG)\n",
    "\n"
   ]
  },
  {
   "attachments": {},
   "cell_type": "markdown",
   "metadata": {},
   "source": [
    "## Step 1 plot the data!\n",
    "plot(mouse.data)\n",
    "![MR4](images/MR4.PNG)\n",
    "since we didnt specify the axis R autoamtically plots all the data columns (size,weight,tail)  against each other"
   ]
  },
  {
   "cell_type": "markdown",
   "metadata": {},
   "source": [
    "## Step 2 do the regression \n",
    "\n",
    "multiple.regression <- lm(size ~ weight + tail, data=mouse.data)\n",
    "\n",
    "## Step3: Look at the R^2, F-value and p-value\n",
    "summary(multiple.regression)\n",
    "\n",
    "Lastly we add a line showing the least squares fit with \n",
    "\n"
   ]
  },
  {
   "attachments": {},
   "cell_type": "markdown",
   "metadata": {},
   "source": [
    "![MR5](images/MR5.PNG)\n",
    "Like in the linear regression skillcase we can read the summary to determine our results"
   ]
  },
  {
   "cell_type": "markdown",
   "metadata": {},
   "source": [
    "# Python\n",
    "\n",
    "Heres how to do it in python: \n"
   ]
  },
  {
   "cell_type": "code",
   "execution_count": 4,
   "metadata": {},
   "outputs": [],
   "source": [
    "\n",
    "## librarys you will need to import\n",
    "import pandas as pd\n",
    "import plotly\n",
    "import statsmodels.api as sm\n",
    "import seaborn as sns\n",
    "from scipy import stats\n",
    "import matplotlib.pyplot as plt\n"
   ]
  },
  {
   "cell_type": "markdown",
   "metadata": {},
   "source": [
    "Heres our data"
   ]
  },
  {
   "cell_type": "code",
   "execution_count": 7,
   "metadata": {},
   "outputs": [
    {
     "name": "stdout",
     "output_type": "stream",
     "text": [
      "   weight  sizes  tail\n",
      "0     0.9    1.4   0.7\n",
      "1     1.8    2.6   1.3\n",
      "2     2.4    1.0   0.7\n",
      "3     3.5    3.7   2.0\n",
      "4     3.9    5.5   3.6\n",
      "5     4.4    3.2   3.0\n",
      "6     5.1    3.0   2.9\n",
      "7     5.6    4.9   3.9\n",
      "8     6.3    6.3   4.0\n"
     ]
    }
   ],
   "source": [
    "mouse = pd.DataFrame({\"weight\":[0.9, 1.8, 2.4, 3.5, 3.9, 4.4, 5.1, 5.6, 6.3],\n",
    "\"sizes\":[1.4, 2.6, 1.0, 3.7, 5.5, 3.2, 3.0, 4.9, 6.3],\n",
    "\"tail\" :[0.7, 1.3, 0.7, 2.0, 3.6, 3.0, 2.9, 3.9, 4.0]})\n",
    "print(mouse)"
   ]
  },
  {
   "cell_type": "markdown",
   "metadata": {},
   "source": [
    "# Step 1 Plot the data!\n"
   ]
  },
  {
   "cell_type": "code",
   "execution_count": 8,
   "metadata": {},
   "outputs": [
    {
     "data": {
      "image/png": "[encoded data removed]",
      "text/plain": [
       "<Figure size 432x288 with 9 Axes>"
      ]
     },
     "metadata": {
      "needs_background": "light"
     },
     "output_type": "display_data"
    },
    {
     "data": {
      "text/plain": [
       "<seaborn.axisgrid.PairGrid at 0x209811d8780>"
      ]
     },
     "execution_count": 8,
     "metadata": {},
     "output_type": "execute_result"
    },
    {
     "data": {
      "image/png": "[encoded data removed]",
      "text/plain": [
       "<Figure size 540x540 with 12 Axes>"
      ]
     },
     "metadata": {},
     "output_type": "display_data"
    }
   ],
   "source": [
    "pd.plotting.scatter_matrix(mouse);\n",
    "plt.show()\n",
    "\n",
    "sns.set()\n",
    "sns.pairplot(mouse)\n"
   ]
  },
  {
   "cell_type": "markdown",
   "metadata": {},
   "source": [
    "# Step 2 Do the regression"
   ]
  },
  {
   "cell_type": "code",
   "execution_count": 1,
   "metadata": {},
   "outputs": [],
   "source": [
    "#X2 = mouse[[\"weight\", \"tail\"]]\n",
    "#y = mouse[\"sizes\"]\n",
    "#X2 = sm.add_constant(X2)\n",
    "#est = sm.OLS(y, X2).fit()\n",
    "\n"
   ]
  },
  {
   "cell_type": "markdown",
   "metadata": {},
   "source": [
    "# Step 3 Look at the R^2, F-value and p-value"
   ]
  },
  {
   "cell_type": "code",
   "execution_count": 3,
   "metadata": {},
   "outputs": [],
   "source": [
    "#print(\"r2_score,pvalues\",est.rsquared,est.pvalues)\n",
    "\n",
    "#print(\"r2_score\",r2_score(mouse.sizes,est.predict(X2)))\n",
    "#print(\"fvalue\",est.fvalue)\n",
    "#print(\"f_pvalue\",est.f_pvalue)\n",
    "\n",
    "#plot_f_distrubiton(est.fvalue,2,6);\n",
    "\n",
    "#print(stats.f.cdf(est.fvalue,2,6))\n",
    "#print(\"f_pvalue\",1-stats.f.cdf(est.fvalue,2,6))"
   ]
  }
 ],
 "metadata": {
  "kernelspec": {
   "display_name": "Python 3",
   "language": "python",
   "name": "python3"
  },
  "language_info": {
   "codemirror_mode": {
    "name": "ipython",
    "version": 3
   },
   "file_extension": ".py",
   "mimetype": "text/x-python",
   "name": "python",
   "nbconvert_exporter": "python",
   "pygments_lexer": "ipython3",
   "version": "3.7.3"
  }
 },
 "nbformat": 4,
 "nbformat_minor": 2
}
