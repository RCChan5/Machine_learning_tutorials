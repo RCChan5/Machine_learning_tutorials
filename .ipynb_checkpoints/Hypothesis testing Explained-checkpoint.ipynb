{
 "cells": [
  {
   "cell_type": "markdown",
   "metadata": {},
   "source": [
    "Hypothesis Testing Background\n",
    "\n",
    "Imagine if there was a virus and there was 2 drugs(Drugs A and B) we can give to people. So we give Drug A to 3 people and measure how long it takes each person to recover from the virus and do the same with drug B. You will notice that the ammount of time to recover will differ from person to person. \n",
    "![HT1](images/HT1.jpg)\n",
    "From the image above we can make a hypothesis that Drug A needs on average 15 fewer hours to recover than Drug B\n",
    "\n",
    "Now we can test the hypothesis by repeating the experiment if in the repeating experiemnts we find the opposite of our hypothesis we can reject it. If in the repeating experiemnts the Hypothesis does reflect your findings the you accept the hypothesis."
   ]
  },
  {
   "cell_type": "markdown",
   "metadata": {},
   "source": [
    "Null Hypothesis:\n",
    " \n",
    "The hypothesis that there is no difference between things ie: Drug A vs Drug B\n",
    "\n",
    "This Leads us into z-tests and t-tests"
   ]
  },
  {
   "cell_type": "code",
   "execution_count": null,
   "metadata": {},
   "outputs": [],
   "source": []
  }
 ],
 "metadata": {
  "kernelspec": {
   "display_name": "Python 3",
   "language": "python",
   "name": "python3"
  },
  "language_info": {
   "codemirror_mode": {
    "name": "ipython",
    "version": 3
   },
   "file_extension": ".py",
   "mimetype": "text/x-python",
   "name": "python",
   "nbconvert_exporter": "python",
   "pygments_lexer": "ipython3",
   "version": "3.7.3"
  }
 },
 "nbformat": 4,
 "nbformat_minor": 2
}
